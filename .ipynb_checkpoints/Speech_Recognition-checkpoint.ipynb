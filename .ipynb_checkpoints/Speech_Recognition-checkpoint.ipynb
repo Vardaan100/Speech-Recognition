{
 "cells": [
  {
   "cell_type": "code",
   "execution_count": 1,
   "metadata": {},
   "outputs": [],
   "source": [
    "import speech_recognition as sr"
   ]
  },
  {
   "cell_type": "code",
   "execution_count": 3,
   "metadata": {},
   "outputs": [],
   "source": [
    "recog = sr.Recognizer()"
   ]
  },
  {
   "cell_type": "code",
   "execution_count": 4,
   "metadata": {},
   "outputs": [
    {
     "data": {
      "text/plain": [
       "<speech_recognition.Recognizer at 0x25d468e1448>"
      ]
     },
     "execution_count": 4,
     "metadata": {},
     "output_type": "execute_result"
    }
   ],
   "source": [
    "recog"
   ]
  },
  {
   "cell_type": "code",
   "execution_count": 6,
   "metadata": {},
   "outputs": [
    {
     "name": "stdout",
     "output_type": "stream",
     "text": [
      "Please provide the file with extension: male.wav\n",
      "summary the sides to break it therefore the you keep adequate coverage the works of places to save money baby is taking longer to getting squared away then the bank was expected during the life events company in AVN heartattack se retirement income the British were inadequate news of the saving lives are heard it has shown that you naked Bond what a discussion can insert when the title of this type of song is in question or waxing or gasing needed I prevent my be personalized number work lace leather and lace work on a flat surface and smooths out this post and a separate system uses a single sirf contained Unity op shop at store holds a good mechanical isliye bad bus figures good Gauhar in late summer curable chairs cabinets chest down house is a set\n"
     ]
    }
   ],
   "source": [
    "filename = input(\"Please provide the file with extension: \") # our file extension should by .wav\n",
    "with sr.AudioFile(filename) as source: # getting the speech from the audio file\n",
    "    audiofile = recog.listen(source)\n",
    "    try:\n",
    "        text = recog.recognize_google(audiofile)\n",
    "        print(text)\n",
    "    except:\n",
    "        print('Check Internet Connectivity')"
   ]
  },
  {
   "cell_type": "code",
   "execution_count": 11,
   "metadata": {},
   "outputs": [
    {
     "name": "stdout",
     "output_type": "stream",
     "text": [
      "what are you doing\n"
     ]
    }
   ],
   "source": [
    "with sr.Microphone() as source: # getting the speech from the microphone\n",
    "    audio = recog.listen(source)\n",
    "    try:\n",
    "        text = recog.recognize_google(audio)\n",
    "        print(text)\n",
    "    except:\n",
    "        print(\"Internet connectivity issue\")"
   ]
  }
 ],
 "metadata": {
  "kernelspec": {
   "display_name": "Python 3",
   "language": "python",
   "name": "python3"
  },
  "language_info": {
   "codemirror_mode": {
    "name": "ipython",
    "version": 3
   },
   "file_extension": ".py",
   "mimetype": "text/x-python",
   "name": "python",
   "nbconvert_exporter": "python",
   "pygments_lexer": "ipython3",
   "version": "3.8.2"
  }
 },
 "nbformat": 4,
 "nbformat_minor": 4
}
